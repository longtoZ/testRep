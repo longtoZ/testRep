{
 "cells": [
  {
   "cell_type": "code",
   "execution_count": 4,
   "id": "unable-exhibit",
   "metadata": {},
   "outputs": [
    {
     "name": "stdout",
     "output_type": "stream",
     "text": [
      "   countryterritoryCode  popData2019\n",
      "0                   AFG     38041757\n",
      "1                   AFG     38041757\n",
      "2                   AFG     38041757\n",
      "3                   AFG     38041757\n",
      "4                   AFG     38041757\n",
      "..                  ...          ...\n",
      "94                  AFG     38041757\n",
      "95                  AFG     38041757\n",
      "96                  AFG     38041757\n",
      "97                  AFG     38041757\n",
      "98                  AFG     38041757\n",
      "\n",
      "[99 rows x 2 columns]\n"
     ]
    }
   ],
   "source": [
    "import pandas as pd\n",
    "import openpyxl\n",
    "import matplotlib\n",
    "\n",
    "excel_data = pd.read_excel(\"769F0000.xlsx\", sheet_name=\"Sheet1\", engine=\"openpyxl\")\n",
    "toList = list(excel_data)\n",
    "#print(excel_data[\"day\"].tolist())\n",
    "\n",
    "excel_data2 = pd.read_excel(\"769F0000.xlsx\",\n",
    "                            sheet_name=\"Sheet1\",\n",
    "                            usecols=[\"countryterritoryCode\", \"popData2019\"],\n",
    "                            engine=\"openpyxl\")\n",
    "print(excel_data2)"
   ]
  },
  {
   "cell_type": "code",
   "execution_count": 54,
   "id": "defensive-graduate",
   "metadata": {},
   "outputs": [
    {
     "data": {
      "text/html": [
       "<div>\n",
       "<style scoped>\n",
       "    .dataframe tbody tr th:only-of-type {\n",
       "        vertical-align: middle;\n",
       "    }\n",
       "\n",
       "    .dataframe tbody tr th {\n",
       "        vertical-align: top;\n",
       "    }\n",
       "\n",
       "    .dataframe thead th {\n",
       "        text-align: right;\n",
       "    }\n",
       "</style>\n",
       "<table border=\"1\" class=\"dataframe\">\n",
       "  <thead>\n",
       "    <tr style=\"text-align: right;\">\n",
       "      <th></th>\n",
       "      <th>dateRep</th>\n",
       "      <th>days</th>\n",
       "      <th>months</th>\n",
       "    </tr>\n",
       "  </thead>\n",
       "  <tbody>\n",
       "    <tr>\n",
       "      <th>X_0</th>\n",
       "      <td>2020-12-14</td>\n",
       "      <td>14</td>\n",
       "      <td>12</td>\n",
       "    </tr>\n",
       "    <tr>\n",
       "      <th>X_1</th>\n",
       "      <td>2020-12-13</td>\n",
       "      <td>13</td>\n",
       "      <td>12</td>\n",
       "    </tr>\n",
       "    <tr>\n",
       "      <th>X_2</th>\n",
       "      <td>2020-12-12</td>\n",
       "      <td>12</td>\n",
       "      <td>12</td>\n",
       "    </tr>\n",
       "    <tr>\n",
       "      <th>X_3</th>\n",
       "      <td>2020-12-11</td>\n",
       "      <td>11</td>\n",
       "      <td>12</td>\n",
       "    </tr>\n",
       "    <tr>\n",
       "      <th>X_4</th>\n",
       "      <td>2020-12-10</td>\n",
       "      <td>10</td>\n",
       "      <td>12</td>\n",
       "    </tr>\n",
       "    <tr>\n",
       "      <th>...</th>\n",
       "      <td>...</td>\n",
       "      <td>...</td>\n",
       "      <td>...</td>\n",
       "    </tr>\n",
       "    <tr>\n",
       "      <th>X_94</th>\n",
       "      <td>2020-09-11</td>\n",
       "      <td>11</td>\n",
       "      <td>9</td>\n",
       "    </tr>\n",
       "    <tr>\n",
       "      <th>X_95</th>\n",
       "      <td>2020-09-10</td>\n",
       "      <td>10</td>\n",
       "      <td>9</td>\n",
       "    </tr>\n",
       "    <tr>\n",
       "      <th>X_96</th>\n",
       "      <td>2020-09-09</td>\n",
       "      <td>9</td>\n",
       "      <td>9</td>\n",
       "    </tr>\n",
       "    <tr>\n",
       "      <th>X_97</th>\n",
       "      <td>2020-09-08</td>\n",
       "      <td>8</td>\n",
       "      <td>9</td>\n",
       "    </tr>\n",
       "    <tr>\n",
       "      <th>X_98</th>\n",
       "      <td>2020-09-07</td>\n",
       "      <td>7</td>\n",
       "      <td>9</td>\n",
       "    </tr>\n",
       "  </tbody>\n",
       "</table>\n",
       "<p>99 rows × 3 columns</p>\n",
       "</div>"
      ],
      "text/plain": [
       "        dateRep  days  months\n",
       "X_0  2020-12-14    14      12\n",
       "X_1  2020-12-13    13      12\n",
       "X_2  2020-12-12    12      12\n",
       "X_3  2020-12-11    11      12\n",
       "X_4  2020-12-10    10      12\n",
       "...         ...   ...     ...\n",
       "X_94 2020-09-11    11       9\n",
       "X_95 2020-09-10    10       9\n",
       "X_96 2020-09-09     9       9\n",
       "X_97 2020-09-08     8       9\n",
       "X_98 2020-09-07     7       9\n",
       "\n",
       "[99 rows x 3 columns]"
      ]
     },
     "execution_count": 54,
     "metadata": {},
     "output_type": "execute_result"
    }
   ],
   "source": [
    "excel_data2 = pd.read_excel(\"769F0000.xlsx\",\n",
    "                            sheet_name=\"Sheet1\",\n",
    "                            usecols=\"A:C\",  \n",
    "                            engine=\"openpyxl\")\n",
    "#excel_data2[\"dateRep\"].tolist()\n",
    "excel_data2 = excel_data2.rename(columns = {\"day\": \"days\", \"month\":\"months\"}, index = lambda x:\"X_\"+str(x))\n",
    "#excel_data2 = excel_data2.rename(columns = lambda y:y+' x', index = lambda x:x+10)\n",
    "excel_data2"
   ]
  },
  {
   "cell_type": "code",
   "execution_count": 10,
   "id": "freelance-flour",
   "metadata": {},
   "outputs": [
    {
     "data": {
      "text/plain": [
       "Afghanistan    99\n",
       "Name: countriesAndTerritories, dtype: int64"
      ]
     },
     "execution_count": 10,
     "metadata": {},
     "output_type": "execute_result"
    }
   ],
   "source": [
    "excel_data3 = pd.read_excel(\"769F0000.xlsx\",\n",
    "                            sheet_name=\"Sheet1\",\n",
    "                            engine=\"openpyxl\")\n",
    "#excel_data3[\"day\"].plot(kind=\"density\", figsize=(14,6))\n",
    "#xcel_data3[\"dateRep\"]\n",
    "excel_data3[\"countriesAndTerritories\"].value_counts()"
   ]
  },
  {
   "cell_type": "code",
   "execution_count": 81,
   "id": "bacterial-shannon",
   "metadata": {},
   "outputs": [
    {
     "name": "stdout",
     "output_type": "stream",
     "text": [
      "<module 'pandas' from 'c:\\\\users\\\\pc\\\\appdata\\\\local\\\\programs\\\\python\\\\python38\\\\lib\\\\site-packages\\\\pandas\\\\__init__.py'>\n"
     ]
    }
   ],
   "source": []
  },
  {
   "cell_type": "code",
   "execution_count": null,
   "id": "patent-radio",
   "metadata": {},
   "outputs": [],
   "source": []
  }
 ],
 "metadata": {
  "kernelspec": {
   "display_name": "Python 3",
   "language": "python",
   "name": "python3"
  },
  "language_info": {
   "codemirror_mode": {
    "name": "ipython",
    "version": 3
   },
   "file_extension": ".py",
   "mimetype": "text/x-python",
   "name": "python",
   "nbconvert_exporter": "python",
   "pygments_lexer": "ipython3",
   "version": "3.8.2"
  }
 },
 "nbformat": 4,
 "nbformat_minor": 5
}
